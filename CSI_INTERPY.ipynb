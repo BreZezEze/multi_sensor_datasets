{
 "cells": [
  {
   "cell_type": "code",
   "execution_count": 28,
   "metadata": {},
   "outputs": [],
   "source": [
    "import numpy as np\n",
    "import matplotlib.pyplot as plt\n",
    "import scipy.io as scio\n",
    "import datetime\n",
    "from scipy.interpolate import interp1d\n",
    "from tqdm import tqdm\n",
    "import pickle"
   ]
  },
  {
   "cell_type": "code",
   "execution_count": 2,
   "metadata": {},
   "outputs": [],
   "source": [
    "csi_file = scio.loadmat('./PicoScenes-MATLAB-Toolbox-Core/csi.mat')  \n",
    "\n",
    "csi_struct=csi_file['rx_2_221116_181510'][0][0][0][0]\n",
    "\n",
    "csi_data=csi_struct[3][0][0][13] #采集的CSI数据\n",
    "csi_tx1=csi_data[:,0:int(csi_data.shape[1]/3)]\n",
    "csi_tx2=csi_data[:,int(csi_data.shape[1]/3):2*int(csi_data.shape[1]/3)]\n",
    "csi_tx3=csi_data[:,2*int(csi_data.shape[1]/3):]\n",
    "csi_data=np.stack((csi_tx1,csi_tx2,csi_tx3),axis=2)\n",
    "\n",
    "# csi_systemtime=csi_struct[1][0][0][2] #采集的系统时间戳\n",
    "csi_systemtime=np.zeros([csi_data.shape[0]])\n",
    "for i in range(len(csi_struct[1][0][0][2])):\n",
    "    csi_systemtime[i]=np.float64(csi_struct[1][0][0][2][i]/1000000000)\n",
    "\n",
    "timesamp_datetime1 = []\n",
    "\n",
    "for i in range(len(csi_systemtime)):\n",
    "    x=csi_systemtime[i]\n",
    "    xxx=datetime.datetime.strftime(datetime.datetime.fromtimestamp(csi_systemtime[i]),\"%Y-%m-%d %H:%M:%S.%f\")\n",
    "    timesamp_datetime1.append(xxx)\n",
    "\n"
   ]
  },
  {
   "cell_type": "code",
   "execution_count": 8,
   "metadata": {},
   "outputs": [],
   "source": [
    "timesamp_org=[] #创建原始时间戳\n",
    "csi_systemtime_len=csi_systemtime.shape[0]\n",
    "\n",
    "t_fps=0.002 #设置采样间隔\n",
    "\n",
    "timesamp_org.append(csi_systemtime[0])\n",
    "\n",
    "\n",
    "timesamp_org_idx=0\n",
    "for timesamp_idx in range(1,csi_systemtime_len):\n",
    "    t_1=csi_systemtime[timesamp_idx-1]\n",
    "    t_2=csi_systemtime[timesamp_idx]\n",
    "\n",
    "    t_delta=(t_2-t_1)\n",
    "    duble_t_fps=2*t_fps\n",
    "\n",
    "    if t_delta< duble_t_fps:\n",
    "        timesamp_org.append(t_1)\n",
    "        timesamp_org.append(t_2)\n",
    "        timesamp_org_idx=timesamp_org_idx+2\n",
    "\n",
    "\n",
    "    else:\n",
    "        #将t_1、t_2的值赋给原始时间戳索引timesamp_org_idx和timesamp_org_idx+1\n",
    "        if timesamp_org_idx >1:\n",
    "            t_5=timesamp_org[timesamp_org_idx]\n",
    "            if t_5 != t_1:\n",
    "                timesamp_org.append(t_1)\n",
    "                timesamp_org_idx=timesamp_org_idx+1\n",
    "            \n",
    "        n=int(np.floor(t_delta/t_fps))\n",
    "        for i in range(n):\n",
    "            t_4=t_1+t_fps*i\n",
    "            timesamp_org.append(t_4)\n",
    "            timesamp_org_idx=timesamp_org_idx+1\n",
    "\n",
    "        t_6=timesamp_org[timesamp_org_idx]\n",
    "\n",
    "        if t_6 != t_2:\n",
    "            timesamp_org.append(t_2)\n",
    "            timesamp_org_idx=timesamp_org_idx+1\n"
   ]
  },
  {
   "cell_type": "code",
   "execution_count": 10,
   "metadata": {},
   "outputs": [
    {
     "name": "stdout",
     "output_type": "stream",
     "text": [
      "149838\n"
     ]
    }
   ],
   "source": [
    "timesamp_org=list(set(timesamp_org))\n",
    "timesamp_org.sort()"
   ]
  },
  {
   "cell_type": "code",
   "execution_count": 17,
   "metadata": {},
   "outputs": [
    {
     "name": "stderr",
     "output_type": "stream",
     "text": [
      "100%|██████████| 149409/149409 [01:59<00:00, 1254.21it/s]\n"
     ]
    }
   ],
   "source": [
    "drop_index=[] #创建丢包后的时间戳在原始时间戳的索引\n",
    "\n",
    "for drop_idx in tqdm(range(csi_systemtime_len)):\n",
    "    x=timesamp_org.index(csi_systemtime[drop_idx])\n",
    "    \n",
    "    drop_index.append(x)"
   ]
  },
  {
   "cell_type": "code",
   "execution_count": 18,
   "metadata": {},
   "outputs": [],
   "source": [
    "timesamp_org_len=len(timesamp_org)"
   ]
  },
  {
   "cell_type": "code",
   "execution_count": 19,
   "metadata": {},
   "outputs": [],
   "source": [
    "Number_of_subcarriers = csi_data.shape[1]\n",
    "Txs=csi_data.shape[2]"
   ]
  },
  {
   "cell_type": "code",
   "execution_count": 20,
   "metadata": {},
   "outputs": [],
   "source": [
    "csi_systemtime_list=csi_systemtime.tolist()"
   ]
  },
  {
   "cell_type": "code",
   "execution_count": 21,
   "metadata": {},
   "outputs": [],
   "source": [
    "csi_org_data = np.zeros([timesamp_org_len, csi_data.shape[1], csi_data.shape[2]], dtype=complex)  # 创建存放插值后的csi矩阵"
   ]
  },
  {
   "cell_type": "code",
   "execution_count": 22,
   "metadata": {},
   "outputs": [
    {
     "name": "stderr",
     "output_type": "stream",
     "text": [
      "100%|██████████| 149408/149408 [12:26<00:00, 200.02it/s]\n"
     ]
    }
   ],
   "source": [
    "for idx in tqdm(range(1,len(drop_index))):\n",
    "\n",
    "    org_start_idx=drop_index[idx-1]\n",
    "    org_end_idx=drop_index[idx]\n",
    "\n",
    "    time_start_idx=csi_systemtime_list.index(timesamp_org[org_start_idx])\n",
    "    time_end_idx=csi_systemtime_list.index(timesamp_org[org_end_idx])\n",
    "\n",
    "    csi_time_start=csi_systemtime_list[time_start_idx]\n",
    "    csi_time_end=csi_systemtime_list[time_end_idx]\n",
    "\n",
    "    for subcarrier in range(Number_of_subcarriers):\n",
    "        for Tx in range(Txs):\n",
    "            if csi_time_end-csi_time_start>=0.02:\n",
    "                vq = timesamp_org[org_start_idx:org_end_idx]\n",
    "                data_time_drop = csi_systemtime_list[time_start_idx:time_end_idx+1]\n",
    "                data_drop = csi_data[time_start_idx:time_end_idx+1, subcarrier, Tx]\n",
    "                data_org_function = interp1d(data_time_drop, data_drop)\n",
    "                data_org = data_org_function(vq)\n",
    "                len = data_org.shape[0]\n",
    "\n",
    "                if idx == 1:\n",
    "                    csi_org_data[org_start_idx:org_end_idx, subcarrier, Tx] = data_org\n",
    "                else:  \n",
    "                    csi_org_data[org_start_idx:org_end_idx,subcarrier,Tx] = data_org\n",
    "            else:\n",
    "                \n",
    "                x_1 = csi_data[time_start_idx, subcarrier, Tx]\n",
    "                x_2 = csi_data[time_end_idx, subcarrier, Tx]\n",
    "                csi_org_data[org_start_idx, subcarrier, Tx] = x_1\n",
    "                csi_org_data[org_end_idx,subcarrier,Tx]=x_2        \n",
    "\n"
   ]
  },
  {
   "cell_type": "code",
   "execution_count": 29,
   "metadata": {},
   "outputs": [
    {
     "data": {
      "text/plain": [
       "<function BufferedWriter.close>"
      ]
     },
     "execution_count": 29,
     "metadata": {},
     "output_type": "execute_result"
    }
   ],
   "source": [
    "csi_data_dict=[]\n",
    "\n",
    "for i in range(timesamp_org_len):\n",
    "    time=timesamp_org[i]\n",
    "    sensor_data=csi_org_data[i,:,:]\n",
    "    frame={'frame':time,'sensor_data':sensor_data}    \n",
    "    csi_data_dict.append(frame)\n",
    "\n",
    "with open('./202211212036/CSI.pkl', \"wb\") as fp:\n",
    "    pickle.dump(csi_data_dict,fp)\n",
    "fp.close"
   ]
  },
  {
   "cell_type": "code",
   "execution_count": 31,
   "metadata": {},
   "outputs": [
    {
     "name": "stdout",
     "output_type": "stream",
     "text": [
      "5.000132723649343\n"
     ]
    }
   ],
   "source": [
    "print((timesamp_org[-1]-timesamp_org[0])/60)"
   ]
  }
 ],
 "metadata": {
  "kernelspec": {
   "display_name": "Python 3.9.13 ('wdc')",
   "language": "python",
   "name": "python3"
  },
  "language_info": {
   "codemirror_mode": {
    "name": "ipython",
    "version": 3
   },
   "file_extension": ".py",
   "mimetype": "text/x-python",
   "name": "python",
   "nbconvert_exporter": "python",
   "pygments_lexer": "ipython3",
   "version": "3.9.13"
  },
  "orig_nbformat": 4,
  "vscode": {
   "interpreter": {
    "hash": "600ff1c50ae6a33b45e60523602a36d2ab414cb7596041c515321e41501eec03"
   }
  }
 },
 "nbformat": 4,
 "nbformat_minor": 2
}
